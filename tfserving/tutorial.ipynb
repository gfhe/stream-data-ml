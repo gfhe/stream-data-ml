{
 "cells": [
  {
   "cell_type": "markdown",
   "source": [
    "# RESTful 接口"
   ],
   "metadata": {
    "collapsed": false
   }
  },
  {
   "cell_type": "code",
   "execution_count": null,
   "outputs": [],
   "source": [
    "# tfserving 镜像\n",
    "!docker pull tensorflow/serving"
   ],
   "metadata": {
    "collapsed": false
   }
  },
  {
   "cell_type": "code",
   "execution_count": null,
   "outputs": [],
   "source": [
    "#tfserving 官方代码和例子\n",
    "!git clone https://github.com/tensorflow/serving"
   ],
   "metadata": {
    "collapsed": false
   }
  },
  {
   "cell_type": "code",
   "execution_count": null,
   "outputs": [],
   "source": [
    "# 运行\n",
    "!docker run -d -p 8501:8501\\\n",
    "  -v $PWD/serving/tensorflow_serving/servables/tensorflow/testdata/saved_model_half_plus_two_cpu:/models/half_plus_two \\\n",
    "-e MODEL_NAME=half_plus_two -t tensorflow/serving"
   ],
   "metadata": {
    "collapsed": false
   }
  },
  {
   "cell_type": "code",
   "execution_count": null,
   "outputs": [],
   "source": [
    "# 验证部署\n",
    "!curl -d '{\"instances\": [1.0, 2.0, 5.0]}' \\\n",
    "  -X POST http://localhost:8501/v1/models/half_plus_two:predict"
   ],
   "metadata": {
    "collapsed": false
   }
  },
  {
   "cell_type": "markdown",
   "source": [
    "返回结果：\n",
    "```\n",
    "{\n",
    "    \"predictions\": [2.5, 3.0, 4.5\n",
    "    ]\n",
    "}\n",
    "```"
   ],
   "metadata": {
    "collapsed": false
   }
  },
  {
   "cell_type": "markdown",
   "source": [
    "# gRPC"
   ],
   "metadata": {
    "collapsed": false
   }
  },
  {
   "cell_type": "code",
   "execution_count": null,
   "outputs": [],
   "source": [
    "# 训练模型, 模型输出到：models/mnist/1/saved_model.pb\n",
    "!git clone https://github.com/tensorflow/serving\n",
    "!pip install tensorflow tensorflow-serving-api\n",
    "!cd serving && python tensorflow_serving/example/mnist_saved_model.py models/mnist"
   ],
   "metadata": {
    "collapsed": false
   }
  },
  {
   "cell_type": "code",
   "execution_count": null,
   "outputs": [],
   "source": [
    "# tfserving\n",
    "!docker run -d -p 8500:8500 \\\n",
    "-v $PWD/models/mnist:/models/mnist \\\n",
    "-e MODEL_NAME=mnist -t tensorflow/serving"
   ],
   "metadata": {
    "collapsed": false
   }
  },
  {
   "cell_type": "code",
   "execution_count": null,
   "outputs": [],
   "source": [
    "# 验证部署\n",
    "!python tensorflow_serving/example/mnist_client.py --num_tests=1000 --server=127.0.0.1:8500"
   ],
   "metadata": {
    "collapsed": false
   }
  },
  {
   "cell_type": "markdown",
   "source": [
    "验证返回\n",
    "Inference error rate: 11.13%"
   ],
   "metadata": {
    "collapsed": false
   }
  },
  {
   "cell_type": "code",
   "execution_count": null,
   "outputs": [],
   "source": [],
   "metadata": {
    "collapsed": false
   }
  }
 ],
 "metadata": {
  "kernelspec": {
   "display_name": "Python 3",
   "language": "python",
   "name": "python3"
  },
  "language_info": {
   "codemirror_mode": {
    "name": "ipython",
    "version": 2
   },
   "file_extension": ".py",
   "mimetype": "text/x-python",
   "name": "python",
   "nbconvert_exporter": "python",
   "pygments_lexer": "ipython2",
   "version": "2.7.6"
  }
 },
 "nbformat": 4,
 "nbformat_minor": 0
}
